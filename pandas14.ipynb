{
 "cells": [
  {
   "cell_type": "code",
   "execution_count": 46,
   "metadata": {},
   "outputs": [],
   "source": [
    "import pandas as pd\n",
    "import pyodbc\n",
    "import textwrap"
   ]
  },
  {
   "cell_type": "code",
   "execution_count": 33,
   "metadata": {},
   "outputs": [
    {
     "data": {
      "text/html": [
       "<div>\n",
       "<style scoped>\n",
       "    .dataframe tbody tr th:only-of-type {\n",
       "        vertical-align: middle;\n",
       "    }\n",
       "\n",
       "    .dataframe tbody tr th {\n",
       "        vertical-align: top;\n",
       "    }\n",
       "\n",
       "    .dataframe thead th {\n",
       "        text-align: right;\n",
       "    }\n",
       "</style>\n",
       "<table border=\"1\" class=\"dataframe\">\n",
       "  <thead>\n",
       "    <tr style=\"text-align: right;\">\n",
       "      <th></th>\n",
       "      <th>id</th>\n",
       "      <th>name</th>\n",
       "      <th>phone_number</th>\n",
       "    </tr>\n",
       "  </thead>\n",
       "  <tbody>\n",
       "    <tr>\n",
       "      <th>0</th>\n",
       "      <td>1</td>\n",
       "      <td>Donald</td>\n",
       "      <td>732678</td>\n",
       "    </tr>\n",
       "    <tr>\n",
       "      <th>1</th>\n",
       "      <td>2</td>\n",
       "      <td>bill</td>\n",
       "      <td>657348</td>\n",
       "    </tr>\n",
       "    <tr>\n",
       "      <th>2</th>\n",
       "      <td>3</td>\n",
       "      <td>modi</td>\n",
       "      <td>456789</td>\n",
       "    </tr>\n",
       "  </tbody>\n",
       "</table>\n",
       "</div>"
      ],
      "text/plain": [
       "   id    name  phone_number\n",
       "0   1  Donald        732678\n",
       "1   2    bill        657348\n",
       "2   3    modi        456789"
      ]
     },
     "execution_count": 33,
     "metadata": {},
     "output_type": "execute_result"
    }
   ],
   "source": [
    "#paramerers\n",
    "server = 'LAPTOP-J9BHVG5D\\HOUSTON'\n",
    "db = 'application'\n",
    "username = 'moushmibhurke' \n",
    "password = '123456'\n",
    "# create the connection\n",
    "conn =pyodbc.connect('DRIVER={ODBC Driver 17 for SQL Server};SERVER='+server+';DATABASE='+db+';UID='+username+';PWD='+ password)\n",
    "cursor = conn.cursor()\n",
    "#query\n",
    "sql= '''\n",
    "select * from customer\n",
    "'''\n",
    "df = pd.read_sql(sql,conn)\n",
    "df"
   ]
  },
  {
   "cell_type": "code",
   "execution_count": 34,
   "metadata": {},
   "outputs": [
    {
     "name": "stdout",
     "output_type": "stream",
     "text": [
      "(1, 'Donald', 732678)\n",
      "(2, 'bill', 657348)\n",
      "(3, 'modi', 456789)\n"
     ]
    }
   ],
   "source": [
    "#or\n",
    "cursor.execute(\"SELECT * from customer;\") \n",
    "row = cursor.fetchone() \n",
    "while row: \n",
    "    print(row) #(row[0])\n",
    "    row = cursor.fetchone()"
   ]
  },
  {
   "cell_type": "code",
   "execution_count": 48,
   "metadata": {},
   "outputs": [
    {
     "name": "stdout",
     "output_type": "stream",
     "text": [
      "(1, 'Donald', 732678)\n",
      "(2, 'bill', 657348)\n",
      "(3, 'modi', 456789)\n",
      "(4, 'moushmi', 345234)\n",
      "(5, 'sara', 345234)\n",
      "(6, 'ruhi', 456789)\n",
      "(4, 'moushmi', 345234)\n",
      "(5, 'sara', 345234)\n",
      "(6, 'ruhi', 456789)\n"
     ]
    }
   ],
   "source": [
    "#Sample insert query\n",
    "customer = [[4,'moushmi',345234],\n",
    "           [5,'sara',345234],\n",
    "           [6,'ruhi',456789]]\n",
    "cursor = conn.cursor()\n",
    "\n",
    "# Loop through to insert each row.\n",
    "for index, row in enumerate(customer):\n",
    "    \n",
    "    # define an insert query with place holders for the values.\n",
    "    insert_query = textwrap.dedent('''\n",
    "        INSERT INTO customer(id, name, phone_number) \n",
    "        VALUES (?, ?, ?);\n",
    "    ''')\n",
    "    \n",
    "    # define the values\n",
    "    values = (row[0], row[1], row[2])\n",
    "    \n",
    "    # insert the data into the database\n",
    "    cursor.execute(insert_query, values)\n",
    "\n",
    "# commit the inserts.\n",
    "conn.commit()\n",
    "    \n",
    "# grab all the rows from the table\n",
    "cursor.execute('SELECT * FROM customer')\n",
    "for row in cursor:\n",
    "    print(row)\n",
    "    \n",
    "# close the cursor and connection  \n",
    "cursor.close()\n",
    "conn.close()"
   ]
  },
  {
   "cell_type": "code",
   "execution_count": 42,
   "metadata": {},
   "outputs": [
    {
     "name": "stdout",
     "output_type": "stream",
     "text": [
      "SQL Server\n",
      "ODBC Driver 17 for SQL Server\n",
      "SQL Server Native Client 11.0\n",
      "SQL Server Native Client RDA 11.0\n",
      "Microsoft Access Driver (*.mdb, *.accdb)\n",
      "Microsoft Excel Driver (*.xls, *.xlsx, *.xlsm, *.xlsb)\n",
      "Microsoft Access Text Driver (*.txt, *.csv)\n"
     ]
    }
   ],
   "source": [
    "#drivers for my pc\n",
    "for drivers in pyodbc.drivers():\n",
    "    print(drivers)"
   ]
  },
  {
   "cell_type": "code",
   "execution_count": null,
   "metadata": {},
   "outputs": [],
   "source": []
  }
 ],
 "metadata": {
  "kernelspec": {
   "display_name": "Python 3",
   "language": "python",
   "name": "python3"
  },
  "language_info": {
   "codemirror_mode": {
    "name": "ipython",
    "version": 3
   },
   "file_extension": ".py",
   "mimetype": "text/x-python",
   "name": "python",
   "nbconvert_exporter": "python",
   "pygments_lexer": "ipython3",
   "version": "3.7.6"
  }
 },
 "nbformat": 4,
 "nbformat_minor": 4
}
